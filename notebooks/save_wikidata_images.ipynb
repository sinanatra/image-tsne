{
 "cells": [
  {
   "cell_type": "markdown",
   "id": "bd84c161-e753-485d-891d-a86e4eef9c18",
   "metadata": {},
   "source": [
    "### Save images from Wikidata"
   ]
  },
  {
   "cell_type": "markdown",
   "id": "bc26e8ef-0fc0-4817-86a5-3a756bd88078",
   "metadata": {},
   "source": [
    "To be able to re-use this script we use open source items from [Wikidata](https://query.wikidata.org/#%23defaultView%3AImageGrid%0ASELECT%20%2a%0AWHERE%0A%7B%0A%20%20%3Fitem%20wdt%3AP31%20wd%3AQ3305213%20.%0A%20%20%3Fitem%20wdt%3AP170%20wd%3AQ5598%20.%0A%20%20%3Fitem%20wdt%3AP18%20%3Fpic%20.%0A%20%20%3Fitem%20wdt%3AP1476%20%3Ftitle%20.%0A%0A%7D). \n",
    "<br>We query the sparql endpoint to retrieve all paintings by Rembrandt and their title. <br> Then we save a csv file and we import it.Save images from Wikidata"
   ]
  },
  {
   "cell_type": "code",
   "execution_count": 39,
   "id": "c009a614-2d87-4909-b51b-2e7947cd4401",
   "metadata": {},
   "outputs": [],
   "source": [
    "import pandas as pd"
   ]
  },
  {
   "cell_type": "code",
   "execution_count": 43,
   "id": "5c6c97b3-7d61-4a4c-9bdc-9907dffd29b1",
   "metadata": {},
   "outputs": [],
   "source": [
    "url = \"../assets/rijskmuseum.csv\"\n",
    "data = pd.read_csv(url)"
   ]
  },
  {
   "cell_type": "code",
   "execution_count": 44,
   "id": "7ef58770-026e-4e49-88e3-4430a40e4714",
   "metadata": {},
   "outputs": [
    {
     "data": {
      "text/html": [
       "<div>\n",
       "<style scoped>\n",
       "    .dataframe tbody tr th:only-of-type {\n",
       "        vertical-align: middle;\n",
       "    }\n",
       "\n",
       "    .dataframe tbody tr th {\n",
       "        vertical-align: top;\n",
       "    }\n",
       "\n",
       "    .dataframe thead th {\n",
       "        text-align: right;\n",
       "    }\n",
       "</style>\n",
       "<table border=\"1\" class=\"dataframe\">\n",
       "  <thead>\n",
       "    <tr style=\"text-align: right;\">\n",
       "      <th></th>\n",
       "      <th>item</th>\n",
       "      <th>pic</th>\n",
       "    </tr>\n",
       "  </thead>\n",
       "  <tbody>\n",
       "    <tr>\n",
       "      <th>0</th>\n",
       "      <td>http://www.wikidata.org/entity/Q17319807</td>\n",
       "      <td>http://commons.wikimedia.org/wiki/Special:File...</td>\n",
       "    </tr>\n",
       "    <tr>\n",
       "      <th>1</th>\n",
       "      <td>http://www.wikidata.org/entity/Q17319946</td>\n",
       "      <td>http://commons.wikimedia.org/wiki/Special:File...</td>\n",
       "    </tr>\n",
       "    <tr>\n",
       "      <th>2</th>\n",
       "      <td>http://www.wikidata.org/entity/Q17319869</td>\n",
       "      <td>http://commons.wikimedia.org/wiki/Special:File...</td>\n",
       "    </tr>\n",
       "    <tr>\n",
       "      <th>3</th>\n",
       "      <td>http://www.wikidata.org/entity/Q17319870</td>\n",
       "      <td>http://commons.wikimedia.org/wiki/Special:File...</td>\n",
       "    </tr>\n",
       "    <tr>\n",
       "      <th>4</th>\n",
       "      <td>http://www.wikidata.org/entity/Q17319832</td>\n",
       "      <td>http://commons.wikimedia.org/wiki/Special:File...</td>\n",
       "    </tr>\n",
       "  </tbody>\n",
       "</table>\n",
       "</div>"
      ],
      "text/plain": [
       "                                       item  \\\n",
       "0  http://www.wikidata.org/entity/Q17319807   \n",
       "1  http://www.wikidata.org/entity/Q17319946   \n",
       "2  http://www.wikidata.org/entity/Q17319869   \n",
       "3  http://www.wikidata.org/entity/Q17319870   \n",
       "4  http://www.wikidata.org/entity/Q17319832   \n",
       "\n",
       "                                                 pic  \n",
       "0  http://commons.wikimedia.org/wiki/Special:File...  \n",
       "1  http://commons.wikimedia.org/wiki/Special:File...  \n",
       "2  http://commons.wikimedia.org/wiki/Special:File...  \n",
       "3  http://commons.wikimedia.org/wiki/Special:File...  \n",
       "4  http://commons.wikimedia.org/wiki/Special:File...  "
      ]
     },
     "execution_count": 44,
     "metadata": {},
     "output_type": "execute_result"
    }
   ],
   "source": [
    "data.head()"
   ]
  },
  {
   "cell_type": "code",
   "execution_count": 45,
   "id": "06c91d68-55e1-4c4c-8405-4029d2a4d417",
   "metadata": {},
   "outputs": [],
   "source": [
    "import os\n",
    "os.makedirs('../assets/wikidata/', exist_ok=True)  "
   ]
  },
  {
   "cell_type": "code",
   "execution_count": null,
   "id": "89c7c133-3db5-468b-a6c6-2af1d0b4f667",
   "metadata": {
    "collapsed": true,
    "jupyter": {
     "outputs_hidden": true
    },
    "tags": []
   },
   "outputs": [
    {
     "name": "stderr",
     "output_type": "stream",
     "text": [
      "72it [03:10,  2.86s/it]"
     ]
    }
   ],
   "source": [
    "import time\n",
    "from PIL import Image\n",
    "from urllib.request import urlopen\n",
    "from tqdm import tqdm\n",
    "\n",
    "Image.MAX_IMAGE_PIXELS = None\n",
    "\n",
    "for img, identifier in tqdm(zip(data[\"pic\"], data[\"item\"])):\n",
    "    im = Image.open(urlopen(img))\n",
    "    identifier = identifier.replace(\"http://www.wikidata.org/entity/\",\"\")\n",
    "    im.save(\"../assets/wikidata/\" + identifier + \".jpg\", quality = 90)\n",
    "    time.sleep(.5)\n"
   ]
  },
  {
   "cell_type": "code",
   "execution_count": null,
   "id": "8ef51a5b-c198-40ec-9b0f-9c1594b63887",
   "metadata": {},
   "outputs": [],
   "source": [
    "newpath = '../assets/wikidata_crop' \n",
    "os.makedirs(newpath, exist_ok=True)  "
   ]
  },
  {
   "cell_type": "markdown",
   "id": "82ec9fd1-8ded-4d24-88bc-583151fcc04e",
   "metadata": {},
   "source": [
    "### Resize the images"
   ]
  },
  {
   "cell_type": "code",
   "execution_count": null,
   "id": "90fe084b-ce27-4a0e-8edc-7891f1225c94",
   "metadata": {},
   "outputs": [],
   "source": [
    "from PIL import Image\n",
    "import os, sys\n",
    "\n",
    "path = \"../assets/wikidata/\"\n",
    "dirs = os.listdir( path )\n",
    "final_size = 300;\n",
    "\n",
    "def resize_aspect_fit():\n",
    "    for item in dirs:\n",
    "        if item == '.DS_Store':\n",
    "            continue\n",
    "        if os.path.isfile(path+item):\n",
    "            im = Image.open(path+item)\n",
    "            f, e = os.path.splitext(path+item)\n",
    "            size = im.size\n",
    "            ratio = float(final_size) / max(size)\n",
    "            new_image_size = tuple([int(x*ratio) for x in size])\n",
    "            im = im.resize(new_image_size, Image.ANTIALIAS)\n",
    "            new_im = Image.new(\"RGB\", (final_size, final_size))\n",
    "            new_im.paste(im, ((final_size-new_image_size[0])//2, (final_size-new_image_size[1])//2))\n",
    "            new_im.save(newpath + item, 'JPEG', quality=90)\n",
    "            \n",
    "resize_aspect_fit()"
   ]
  }
 ],
 "metadata": {
  "kernelspec": {
   "display_name": "Python 3 (ipykernel)",
   "language": "python",
   "name": "python3"
  },
  "language_info": {
   "codemirror_mode": {
    "name": "ipython",
    "version": 3
   },
   "file_extension": ".py",
   "mimetype": "text/x-python",
   "name": "python",
   "nbconvert_exporter": "python",
   "pygments_lexer": "ipython3",
   "version": "3.8.5"
  }
 },
 "nbformat": 4,
 "nbformat_minor": 5
}
